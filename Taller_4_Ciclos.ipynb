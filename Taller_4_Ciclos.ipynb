{
  "cells": [
    {
      "cell_type": "markdown",
      "id": "66beb5a1",
      "metadata": {
        "id": "66beb5a1"
      },
      "source": [
        "# Fundamentos de Programación para Ingeniería Mecánica\n",
        "## UPB Montería - 202310\n",
        "### Taller 4: Ciclos\n",
        "- Docente: Miguel Ortiz (miguel.ortizp@upb.edu.co)"
      ]
    },
    {
      "cell_type": "markdown",
      "id": "b4381f55",
      "metadata": {
        "id": "b4381f55"
      },
      "source": [
        "Datos del Estudiante:\n",
        "- Nombre: juan pablo barrios villalba \n",
        "- ID: 000522880\n",
        "- email: juan.barriosv@upb.edu.co"
      ]
    },
    {
      "cell_type": "markdown",
      "id": "433f35a0",
      "metadata": {
        "id": "433f35a0"
      },
      "source": [
        "Resuelva los siguientes ejercicios utilizando estructuras cíclicas y condicionales."
      ]
    },
    {
      "cell_type": "markdown",
      "id": "aead929b",
      "metadata": {
        "id": "aead929b"
      },
      "source": [
        "### Problema 1: Suma de Elementos (30xp)\n",
        "\n",
        "Indique cuál de los dos números ingresados por el usuario tiene una suma de dígitos mayor y la diferencia de estas sumas. Si las sumas de los dígitos son iguales, infórmelo al usuario. \n",
        "\n",
        "**Ejemplo:**\n",
        "\n",
        "```\n",
        "Ingrese el primer número: 23672646\n",
        "Ingrese el segundo número: 12653686\n",
        "La suma de los elementos de la lista 2 es mayor que la suma de los elementos de la lista 1 en 1 unidades.\n",
        "```\n",
        "\n",
        "**Recomendación:** pruebe su algoritmo con listas de prueba:\n",
        "- `lst_1`: lista que representa el primer número. Por ejemplo: dígitos del número de su documento de identidad\n",
        "- `lst_2`: lista que representa el segundo número. Por ejemplo: dígitos del número de su id\n",
        "\n",
        "**Nota:** para leer un número ingresado por el usuario y convertirlo en lista puede utilizar las siguientes instrucciones:\n",
        "\n",
        "```python\n",
        "num = input('Número: ')\n",
        "lst = [int(x) for x in num]\n",
        "```"
      ]
    },
    {
      "cell_type": "code",
      "execution_count": 1,
      "id": "46b47e9b",
      "metadata": {
        "id": "46b47e9b",
        "outputId": "bd59eb38-b410-4d25-be2c-a70e1492d7e5",
        "colab": {
          "base_uri": "https://localhost:8080/"
        }
      },
      "outputs": [
        {
          "output_type": "stream",
          "name": "stdout",
          "text": [
            "ingrese primera lista de numero:1,1,1,2\n",
            "ingrese la segunda lista de  numero:1,1,1,6\n",
            "la suma de los datos de ambas listas es igual\n"
          ]
        }
      ],
      "source": [
        "\n",
        "a = input(\"ingrese primera lista de numero:\")\n",
        "b = input(\"ingrese la segunda lista de  numero:\")\n",
        "\n",
        "\n",
        "a_sum = 0\n",
        "b_sum = 0\n",
        "\n",
        "for i in a:\n",
        "    a_sum += 1\n",
        "    \n",
        "for i in b:\n",
        "    b_sum += 1\n",
        "    \n",
        "if a_sum > b_sum:\n",
        "    print(\"la suma de los datos de la lista 1 es mayor que la suma de los datos de la lista 2\")\n",
        "elif a_sum == b_sum:\n",
        "  print(\"la suma de los datos de ambas listas es igual\")\n",
        "else:\n",
        "    print(\"la suma de los datos de la lista 2 es mayor que la suma de los datos de la lista 1\")"
      ]
    },
    {
      "cell_type": "markdown",
      "id": "986a4945",
      "metadata": {
        "id": "986a4945"
      },
      "source": [
        "### Problema 2: Suma Objetivo (50xp)\n",
        "\n",
        "Indique si la suma de los dígitos de un número de verificación alcanza un valor objetivo. Si obtiene el valor objetivo antes de finalizar el recorrido por todos los dígitos del número, indique la iteración en la que se obtuvo este valor. Tenga en cuenta que tanto el valor objetivo como el número de verificación son ingresados por el usuario. En cualquiera de los casos, muestre el resultado obtenido de la suma de los dígitos.\n",
        "\n",
        "**Ejemplo:**\n",
        "```\n",
        "Ingrese número de suma objetivo: 15\n",
        "Ingrese número para validar suma de dígitos: 1234562\n",
        "Suma obtenida en iteración 5 de 7\n",
        "Resultado obtenido: 15\n",
        "Alcanzó el valor objetivo.\n",
        "```\n",
        "\n",
        "**Recomendación:** pruebe su algoritmo con números y listas de prueba:\n",
        "- `n_obj`: valor objetivo\n",
        "- `lst`: lista que representa el número de verificación. Por ejemplo: dígitos del número de su id\n",
        "\n",
        "**Nota:** para leer un número ingresado por el usuario y convertirlo en lista puede utilizar las siguientes instrucciones:\n",
        "\n",
        "```python\n",
        "num = input('Número: ')\n",
        "lst = [int(x) for x in num]\n",
        "```"
      ]
    },
    {
      "cell_type": "code",
      "execution_count": 11,
      "id": "895f4399",
      "metadata": {
        "id": "895f4399",
        "outputId": "d9459e69-a0c1-4a1b-a56a-a723335972b4",
        "colab": {
          "base_uri": "https://localhost:8080/"
        }
      },
      "outputs": [
        {
          "output_type": "stream",
          "name": "stdout",
          "text": [
            "Número de verificación: 15\n",
            "Valor objetivo: 1234562\n",
            "La suma de los dígitos del número de verificación es: 6\n"
          ]
        }
      ],
      "source": [
        "num = input('Número de verificación: ')\n",
        "num_obje = int(input('Valor objetivo: '))\n",
        "\n",
        "lst = [int(x) for x in num]\n",
        "\n",
        "suma = 0\n",
        "for i in range(len(lst)):\n",
        "    suma += lst[i]\n",
        "    if suma >= num_obje:\n",
        "        print(\"El valor objetivo se alcanzó en la iteración:\", i+1)\n",
        "        break\n",
        "\n",
        "print(\"La suma de los dígitos del número de verificación es:\", suma)"
      ]
    },
    {
      "cell_type": "markdown",
      "id": "0b532b9b",
      "metadata": {
        "id": "0b532b9b"
      },
      "source": [
        "### Problema 3: Dígito Mayor (40xp)\n",
        "\n",
        "Indique el dígito de mayor valor y su posición en un número ingresado por el usuario. En caso de que el dígito mayor se repita, se debe retornar el índice del primero de ellos que fue encontrado. \n",
        "\n",
        "**Ejemplo:**\n",
        "\n",
        "```\n",
        "Ingrese número: 123753569054\n",
        "El dígito mayor de la lista es 9\n",
        "El número se encontró en la posición 8\n",
        "```\n",
        "\n",
        "**Recomendación:** pruebe su algoritmo con listas de prueba:\n",
        "- `lst`: lista que representa el número a evaluar. Por ejemplo: dígitos del número de su documento de identidad\n",
        "\n",
        "**Nota:** para leer un número ingresado por el usuario y convertirlo en lista puede utilizar las siguientes instrucciones:\n",
        "\n",
        "```python\n",
        "num = input('Número: ')\n",
        "lst = [int(x) for x in num]\n",
        "```"
      ]
    },
    {
      "cell_type": "code",
      "execution_count": 9,
      "id": "9159f388",
      "metadata": {
        "scrolled": true,
        "id": "9159f388",
        "outputId": "93d91ff0-be72-45c5-c5a9-761aa66d1607",
        "colab": {
          "base_uri": "https://localhost:8080/"
        }
      },
      "outputs": [
        {
          "output_type": "stream",
          "name": "stdout",
          "text": [
            "Ingresa un número de varios digitos: 123456789\n",
            "El número con mayor valor de la lista es:  9  y esta ubicado en la posición:  8  .\n"
          ]
        }
      ],
      "source": [
        "\n",
        "\n",
        "num = input(\"Ingresa un número de varios digitos: \")\n",
        "\n",
        "lst = [int(i) for i in num]\n",
        "\n",
        "print(\"El número con mayor valor de la lista es: \", max(lst),  \" y esta ubicado en la posición: \", lst.index(max(lst)), \" .\")"
      ]
    },
    {
      "cell_type": "markdown",
      "id": "03af9108",
      "metadata": {
        "id": "03af9108"
      },
      "source": [
        "}### Problema 4: Valores que coinciden (50xp)\n",
        "\n",
        "Indique las posiciones (índices) en los cuales se encuentran los mismos valores de los dígitos en dos números ingresados por el usuario. El algoritmo debe verificar que los números tengan la misma longitud (igual número de dígitos). Si ninguno de los dígitos de los números coincide, también debe informarlo al usuario. \n",
        "\n",
        "**Ejemplo:**\n",
        "\n",
        "```\n",
        "Ingrese el primer número: 124646272\n",
        "Ingrese el segundo número: 354849136\n",
        "Los números tienen 2 dígitos(s) en común en la(s) posición(es): [2, 4]\n",
        "```\n",
        "\n",
        "**Recomendación:** pruebe su algoritmo con listas de prueba:\n",
        "- `lst_1`: lista que representa el primer número. \n",
        "- `lst_2`: lista que representa el segundo número. \n",
        "\n",
        "**Nota:** para leer un número ingresado por el usuario y convertirlo en lista puede utilizar las siguientes instrucciones:\n",
        "\n",
        "```python\n",
        "num = input('Número: ')\n",
        "lst = [int(x) for x in num]\n",
        "```"
      ]
    },
    {
      "cell_type": "code",
      "source": [
        "num_1 = input(\"Ingrese el primer número sin espacio: \")\n",
        "num_2 = input(\"Ingrese el segundo número sin espacio: \")\n",
        "\n",
        "if len(num_1) != len(num_2):\n",
        "    print(\"Los números no tienen la misma longitud.\")\n",
        "else:\n",
        "    coincidencias = []\n",
        "    for i in range(len(num_1)):\n",
        "        if num_1[i] == num_2[i]:\n",
        "            coincidencias.append(i)\n",
        "    if len(coincidencias) > 0:\n",
        "        print(\"Los números tienen coincidencias en las posiciones:\", coincidencias)\n",
        "    else:\n",
        "        print(\"los numeros tienen numeros iguales en las siguientes posiciones.\")"
      ],
      "metadata": {
        "id": "c7xRpJ4EL3yw",
        "outputId": "9958cc91-4f2d-436b-94fe-aefd595f611e",
        "colab": {
          "base_uri": "https://localhost:8080/"
        }
      },
      "id": "c7xRpJ4EL3yw",
      "execution_count": 5,
      "outputs": [
        {
          "output_type": "stream",
          "name": "stdout",
          "text": [
            "Ingrese el primer número sin espacio: 1114556\n",
            "Ingrese el segundo número sin espacio: 9994599\n",
            "Los números tienen coincidencias en las posiciones: [3, 4]\n"
          ]
        }
      ]
    },
    {
      "cell_type": "code",
      "source": [],
      "metadata": {
        "id": "ee1RKd_BLLf2"
      },
      "id": "ee1RKd_BLLf2",
      "execution_count": null,
      "outputs": []
    }
  ],
  "metadata": {
    "kernelspec": {
      "display_name": "Python 3 (ipykernel)",
      "language": "python",
      "name": "python3"
    },
    "language_info": {
      "codemirror_mode": {
        "name": "ipython",
        "version": 3
      },
      "file_extension": ".py",
      "mimetype": "text/x-python",
      "name": "python",
      "nbconvert_exporter": "python",
      "pygments_lexer": "ipython3",
      "version": "3.10.6"
    },
    "colab": {
      "provenance": []
    }
  },
  "nbformat": 4,
  "nbformat_minor": 5
}